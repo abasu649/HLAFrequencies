{
 "cells": [
  {
   "cell_type": "code",
   "execution_count": 1,
   "metadata": {},
   "outputs": [
    {
     "name": "stdout",
     "output_type": "stream",
     "text": [
      "{'A': {'A*01': 84, 'A*29': 13, 'A*11': 60, 'A*24': 129, 'A*02': 283, 'A*68': 41, 'A*32': 54, 'A*33': 8, 'A*23': 22, 'A*03': 84, 'A*26': 45, 'A*30': 12, 'A*25': 8, 'A*69': 5, 'A*36': 2, 'A*66': 1, 'A*31': 9, 'A*74': 3, 'A*43': 1}, 'B': {'B*07': 50, 'B*44': 58, 'B*55': 22, 'B*35': 112, 'B*51': 143, 'B*18': 136, 'B*40': 39, 'B*08': 43, 'B*14': 7, 'B*54': 3, 'B*37': 26, 'B*13': 20, 'B*52': 22, 'B*27': 25, 'B*78': 4, 'B*15': 25, 'B*38': 23, 'B*41': 11, 'B*53': 9, 'B*50': 11, 'B*39': 21, 'B*49': 14, 'B*57': 13, 'B*58': 12, 'B*56': 2, 'B*47': 7, 'B*45': 2, 'B*48': 1, 'B*73': 2, 'B*82': 1}, 'D': {'DRB1*01': 44, 'DRB1*10': 16, 'DQB1*05': 101, 'DRB1*11': 255, 'DRB1*15': 70, 'DQB1*03': 162, 'DQB1*06': 74, 'DRB1*16': 105, 'DRB1*07': 59, 'DRB1*04': 71, 'DRB1*03': 56, 'DRB1*12': 17, 'DRB1*14': 55, 'DQB1*02': 48, 'DRB1*13': 96, 'DRB1*08': 20, 'DQB1*04': 15}, 'C': {'C*02': 27, 'C*03': 18, 'C*06': 28, 'C*12': 31, 'C*07': 68, 'C*04': 48, 'C*16': 9, 'C*15': 35, 'C*05': 23, 'C*14': 12, 'C*01': 12, 'C*08': 3}}\n"
     ]
    }
   ],
   "source": [
    "#ParsingHLA\n",
    "import csv\n",
    "import pandas as pd \n",
    "\n",
    "genesHLA = {}\n",
    "\n",
    "# Change current working directory \n",
    "loc = (\"/Users/anamikabasu/Desktop/AFND0003326.csv\") \n",
    "\n",
    "df = pd.read_csv(\"/Users/anamikabasu/Desktop/AFND0003326.csv\",header=None)\n",
    "\n",
    "for row in range(0,len(df.index)):\n",
    "\tfor col in df.columns: #potential problem, what if the column names are not int\n",
    "\t\tif isinstance(df.iloc[row,col],str) and \"*\" in df.iloc[row,col]: \n",
    "\t\t\tallele = df.iloc[row,col]\n",
    "\t\t\tgene = allele[0].split(\"*\")[0]\n",
    "\t\t\tif gene not in genesHLA:\n",
    "\t\t\t\tgenesHLA.update({gene : {}})\n",
    "\t\t\tif gene in genesHLA:\n",
    "\t\t\t\tif allele not in genesHLA[gene]:\n",
    "\t\t\t\t\tgenesHLA[gene].update({allele:1})\n",
    "\t\t\t\telse:\n",
    "\t\t\t\t\tgenesHLA[gene].update({allele:genesHLA[gene][allele] +1})\n",
    "\n",
    "print(genesHLA)\n"
   ]
  },
  {
   "cell_type": "code",
   "execution_count": 4,
   "metadata": {},
   "outputs": [],
   "source": [
    "x= \"A*01\".split(\"*\")[0]\n",
    "print(x)"
   ]
  },
  {
   "cell_type": "code",
   "execution_count": 5,
   "metadata": {
    "scrolled": true
   },
   "outputs": [
    {
     "name": "stdout",
     "output_type": "stream",
     "text": [
      "A\n"
     ]
    }
   ],
   "source": [
    "print(x)"
   ]
  },
  {
   "cell_type": "code",
   "execution_count": null,
   "metadata": {},
   "outputs": [],
   "source": []
  }
 ],
 "metadata": {
  "kernelspec": {
   "display_name": "Python 3",
   "language": "python",
   "name": "python3"
  },
  "language_info": {
   "codemirror_mode": {
    "name": "ipython",
    "version": 3
   },
   "file_extension": ".py",
   "mimetype": "text/x-python",
   "name": "python",
   "nbconvert_exporter": "python",
   "pygments_lexer": "ipython3",
   "version": "3.6.5"
  }
 },
 "nbformat": 4,
 "nbformat_minor": 2
}
